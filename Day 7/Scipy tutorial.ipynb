{
 "cells": [
  {
   "cell_type": "markdown",
   "id": "c2caeb4f",
   "metadata": {},
   "source": [
    "1. Книга Элегантный SciPy | Дэншоу Харриет, Штефан Ван дер Уолт \n",
    "<img src=\"https://cdn3.ozone.ru/multimedia/wc1200/1023905486.jpg\" width=\"200\" height=\"200\">\n",
    "\n",
    "\n",
    "2. Книга Python для сложных задач: наука о данных и машинное обучение» | Дж. Вандер Плас\n",
    "![image.png](https://hsto.org/r/w1560/webt/59/dc/7d/59dc7db578d00991150128.jpeg)"
   ]
  },
  {
   "cell_type": "code",
   "execution_count": 1,
   "id": "8908b77d",
   "metadata": {},
   "outputs": [],
   "source": [
    "import numpy as np\n",
    "import matplotlib as mpl\n",
    "import matplotlib.pyplot as plt\n",
    "import scipy"
   ]
  },
  {
   "cell_type": "markdown",
   "id": "fcf2e402",
   "metadata": {},
   "source": [
    "scipy состоит из большого количество подпакетов\n",
    "\n",
    "**scipy.stats** служит для работы со статистическими распределениями и ститистическими функциями"
   ]
  },
  {
   "cell_type": "code",
   "execution_count": 2,
   "id": "9a834c2b",
   "metadata": {},
   "outputs": [],
   "source": [
    "from scipy import stats"
   ]
  },
  {
   "cell_type": "markdown",
   "id": "e63bd611",
   "metadata": {},
   "source": [
    "# [Statistics (scipy.stats)](https://docs.scipy.org/doc/scipy/tutorial/stats.html)"
   ]
  },
  {
   "cell_type": "code",
   "execution_count": 4,
   "id": "ba1f6a94",
   "metadata": {},
   "outputs": [
    {
     "name": "stdout",
     "output_type": "stream",
     "text": [
      "Help on binom_gen in module scipy.stats._discrete_distns:\n",
      "\n",
      "<scipy.stats._discrete_distns.binom_gen object>\n",
      "    A binomial discrete random variable.\n",
      "    \n",
      "    As an instance of the `rv_discrete` class, `binom` object inherits from it\n",
      "    a collection of generic methods (see below for the full list),\n",
      "    and completes them with details specific for this particular distribution.\n",
      "    \n",
      "    Methods\n",
      "    -------\n",
      "    rvs(n, p, loc=0, size=1, random_state=None)\n",
      "        Random variates.\n",
      "    pmf(k, n, p, loc=0)\n",
      "        Probability mass function.\n",
      "    logpmf(k, n, p, loc=0)\n",
      "        Log of the probability mass function.\n",
      "    cdf(k, n, p, loc=0)\n",
      "        Cumulative distribution function.\n",
      "    logcdf(k, n, p, loc=0)\n",
      "        Log of the cumulative distribution function.\n",
      "    sf(k, n, p, loc=0)\n",
      "        Survival function  (also defined as ``1 - cdf``, but `sf` is sometimes more accurate).\n",
      "    logsf(k, n, p, loc=0)\n",
      "        Log of the survival function.\n",
      "    ppf(q, n, p, loc=0)\n",
      "        Percent point function (inverse of ``cdf`` --- percentiles).\n",
      "    isf(q, n, p, loc=0)\n",
      "        Inverse survival function (inverse of ``sf``).\n",
      "    stats(n, p, loc=0, moments='mv')\n",
      "        Mean('m'), variance('v'), skew('s'), and/or kurtosis('k').\n",
      "    entropy(n, p, loc=0)\n",
      "        (Differential) entropy of the RV.\n",
      "    expect(func, args=(n, p), loc=0, lb=None, ub=None, conditional=False)\n",
      "        Expected value of a function (of one argument) with respect to the distribution.\n",
      "    median(n, p, loc=0)\n",
      "        Median of the distribution.\n",
      "    mean(n, p, loc=0)\n",
      "        Mean of the distribution.\n",
      "    var(n, p, loc=0)\n",
      "        Variance of the distribution.\n",
      "    std(n, p, loc=0)\n",
      "        Standard deviation of the distribution.\n",
      "    interval(confidence, n, p, loc=0)\n",
      "        Confidence interval with equal areas around the median.\n",
      "    \n",
      "    Notes\n",
      "    -----\n",
      "    The probability mass function for `binom` is:\n",
      "    \n",
      "    .. math::\n",
      "    \n",
      "       f(k) = \\binom{n}{k} p^k (1-p)^{n-k}\n",
      "    \n",
      "    for :math:`k \\in \\{0, 1, \\dots, n\\}`, :math:`0 \\leq p \\leq 1`\n",
      "    \n",
      "    `binom` takes :math:`n` and :math:`p` as shape parameters,\n",
      "    where :math:`p` is the probability of a single success\n",
      "    and :math:`1-p` is the probability of a single failure.\n",
      "    \n",
      "    The probability mass function above is defined in the \"standardized\" form.\n",
      "    To shift distribution use the ``loc`` parameter.\n",
      "    Specifically, ``binom.pmf(k, n, p, loc)`` is identically\n",
      "    equivalent to ``binom.pmf(k - loc, n, p)``.\n",
      "    \n",
      "    Examples\n",
      "    --------\n",
      "    >>> from scipy.stats import binom\n",
      "    >>> import matplotlib.pyplot as plt\n",
      "    >>> fig, ax = plt.subplots(1, 1)\n",
      "    \n",
      "    Calculate the first four moments:\n",
      "    \n",
      "    >>> n, p = 5, 0.4\n",
      "    >>> mean, var, skew, kurt = binom.stats(n, p, moments='mvsk')\n",
      "    \n",
      "    Display the probability mass function (``pmf``):\n",
      "    \n",
      "    >>> x = np.arange(binom.ppf(0.01, n, p),\n",
      "    ...               binom.ppf(0.99, n, p))\n",
      "    >>> ax.plot(x, binom.pmf(x, n, p), 'bo', ms=8, label='binom pmf')\n",
      "    >>> ax.vlines(x, 0, binom.pmf(x, n, p), colors='b', lw=5, alpha=0.5)\n",
      "    \n",
      "    Alternatively, the distribution object can be called (as a function)\n",
      "    to fix the shape and location. This returns a \"frozen\" RV object holding\n",
      "    the given parameters fixed.\n",
      "    \n",
      "    Freeze the distribution and display the frozen ``pmf``:\n",
      "    \n",
      "    >>> rv = binom(n, p)\n",
      "    >>> ax.vlines(x, 0, rv.pmf(x), colors='k', linestyles='-', lw=1,\n",
      "    ...         label='frozen pmf')\n",
      "    >>> ax.legend(loc='best', frameon=False)\n",
      "    >>> plt.show()\n",
      "    \n",
      "    Check accuracy of ``cdf`` and ``ppf``:\n",
      "    \n",
      "    >>> prob = binom.cdf(x, n, p)\n",
      "    >>> np.allclose(x, binom.ppf(prob, n, p))\n",
      "    True\n",
      "    \n",
      "    Generate random numbers:\n",
      "    \n",
      "    >>> r = binom.rvs(n, p, size=1000)\n",
      "    \n",
      "    See Also\n",
      "    --------\n",
      "    hypergeom, nbinom, nhypergeom\n",
      "\n"
     ]
    }
   ],
   "source": [
    "help(stats.binom)"
   ]
  },
  {
   "cell_type": "code",
   "execution_count": 5,
   "id": "9c0bfd8d",
   "metadata": {},
   "outputs": [
    {
     "name": "stdout",
     "output_type": "stream",
     "text": [
      "In file: C:\\Python310\\lib\\site-packages\\scipy\\stats\\_distn_infrastructure.py\n",
      "\n",
      "    def ppf(self, q, *args, **kwds):\n",
      "        \"\"\"Percent point function (inverse of `cdf`) at q of the given RV.\n",
      "\n",
      "        Parameters\n",
      "        ----------\n",
      "        q : array_like\n",
      "            Lower tail probability.\n",
      "        arg1, arg2, arg3,... : array_like\n",
      "            The shape parameter(s) for the distribution (see docstring of the\n",
      "            instance object for more information).\n",
      "        loc : array_like, optional\n",
      "            Location parameter (default=0).\n",
      "\n",
      "        Returns\n",
      "        -------\n",
      "        k : array_like\n",
      "            Quantile corresponding to the lower tail probability, q.\n",
      "\n",
      "        \"\"\"\n",
      "        args, loc, _ = self._parse_args(*args, **kwds)\n",
      "        q, loc = map(asarray, (q, loc))\n",
      "        args = tuple(map(asarray, args))\n",
      "        _a, _b = self._get_support(*args)\n",
      "        cond0 = self._argcheck(*args) & (loc == loc)\n",
      "        cond1 = (q > 0) & (q < 1)\n",
      "        cond2 = (q == 1) & cond0\n",
      "        cond = cond0 & cond1\n",
      "        output = np.full(shape(cond), fill_value=self.badvalue, dtype='d')\n",
      "        # output type 'd' to handle nin and inf\n",
      "        place(output, (q == 0)*(cond == cond), _a-1 + loc)\n",
      "        place(output, cond2, _b + loc)\n",
      "        if np.any(cond):\n",
      "            goodargs = argsreduce(cond, *((q,)+args+(loc,)))\n",
      "            loc, goodargs = goodargs[-1], goodargs[:-1]\n",
      "            place(output, cond, self._ppf(*goodargs) + loc)\n",
      "\n",
      "        if output.ndim == 0:\n",
      "            return output[()]\n",
      "        return output\n",
      "\n"
     ]
    }
   ],
   "source": [
    "from numpy import source\n",
    "\n",
    "source(stats.binom.ppf)"
   ]
  },
  {
   "cell_type": "code",
   "execution_count": 6,
   "id": "a2117ed8",
   "metadata": {},
   "outputs": [
    {
     "data": {
      "text/plain": [
       "1.0"
      ]
     },
     "execution_count": 6,
     "metadata": {},
     "output_type": "execute_result"
    }
   ],
   "source": [
    "sin_of_nity_degrees = scipy.special.sindg(90)\n",
    "sin_of_nity_degrees  # sin(90 degrees)"
   ]
  },
  {
   "cell_type": "markdown",
   "id": "7e63bfee",
   "metadata": {},
   "source": [
    "## scipy.integrate - пакет для решения интегралов и ДУ"
   ]
  },
  {
   "cell_type": "code",
   "execution_count": 7,
   "id": "606c9672",
   "metadata": {},
   "outputs": [
    {
     "data": {
      "text/plain": [
       "(64.0, 7.105427357601002e-13)"
      ]
     },
     "execution_count": 7,
     "metadata": {},
     "output_type": "execute_result"
    }
   ],
   "source": [
    "# Compute a definite integral\n",
    "\n",
    "x = lambda x: 3 * x ** 2\n",
    "result = scipy.integrate.quad(func=x, a=0.0, b=4.0)\n",
    "result"
   ]
  },
  {
   "cell_type": "markdown",
   "id": "010369a1",
   "metadata": {},
   "source": [
    "[scipy.integrate.quad](https://docs.scipy.org/doc/scipy/reference/generated/scipy.integrate.quad.html)"
   ]
  },
  {
   "cell_type": "code",
   "execution_count": 8,
   "id": "87bdf3e3",
   "metadata": {},
   "outputs": [
    {
     "data": {
      "image/png": "[encoded data removed]",
      "text/plain": [
       "<Figure size 1000x500 with 1 Axes>"
      ]
     },
     "metadata": {},
     "output_type": "display_data"
    }
   ],
   "source": [
    "target_function = lambda x: x ** 2 + 10 * np.sin(x)\n",
    "\n",
    "plt.figure(figsize=(10, 5))  # creates figure, where figsize are size in inches\n",
    "x = np.arange(-10, 10, 0.1)\n",
    "plt.xlabel('x')\n",
    "plt.ylabel('y')\n",
    "plt.title('optimize')\n",
    "plt.plot(x, target_function(x), 'r-', label='$f(x)=x^2+10sin(x)$')\n",
    "plt.legend()\n",
    "plt.show()"
   ]
  },
  {
   "cell_type": "markdown",
   "id": "6dd64e2d",
   "metadata": {},
   "source": [
    "**Решим следующую систему уравнений**: \\begin{matrix}\n",
    " &  & \\\\ x+3y+5z=10\n",
    " &  & \\\\ 2x+5y+z=8\n",
    " &  & \\\\ 2x+3y+8z=3\n",
    "\\end{matrix}."
   ]
  },
  {
   "cell_type": "code",
   "execution_count": 10,
   "id": "3f89fbd9",
   "metadata": {},
   "outputs": [
    {
     "data": {
      "text/plain": [
       "array([-9.28,  5.16,  0.76])"
      ]
     },
     "execution_count": 10,
     "metadata": {},
     "output_type": "execute_result"
    }
   ],
   "source": [
    "from scipy import linalg\n",
    "import numpy as np\n",
    "\n",
    "a = np.array([[1, 3, 5], \n",
    "              [2, 5, 1],\n",
    "              [2, 3, 8]])\n",
    "\n",
    "b = np.array([10,\n",
    "              8,\n",
    "              3])\n",
    "\n",
    "result = linalg.solve(a, b)\n",
    "result"
   ]
  },
  {
   "cell_type": "markdown",
   "id": "17632f63",
   "metadata": {},
   "source": [
    "Соответственно, x=-9.28, y=5.16, z=0.76."
   ]
  },
  {
   "cell_type": "markdown",
   "id": "f83bc6e5",
   "metadata": {},
   "source": [
    "**определитель матрицы**: $ A=\\begin{pmatrix}\n",
    " 1 & 2 \\\\ \n",
    " 3 & 4\n",
    "\\end{pmatrix}$"
   ]
  },
  {
   "cell_type": "code",
   "execution_count": 11,
   "id": "96dc8479",
   "metadata": {},
   "outputs": [
    {
     "data": {
      "text/plain": [
       "-2.0"
      ]
     },
     "execution_count": 11,
     "metadata": {},
     "output_type": "execute_result"
    }
   ],
   "source": [
    "A = np.array([[1, 2],\n",
    "              [3, 4]])\n",
    "\n",
    "deter = linalg.det(A)\n",
    "deter"
   ]
  },
  {
   "cell_type": "markdown",
   "id": "fbc6779e",
   "metadata": {},
   "source": [
    "**собственные значения и собственные векторы** матрицы"
   ]
  },
  {
   "cell_type": "code",
   "execution_count": 12,
   "id": "641791b0",
   "metadata": {},
   "outputs": [
    {
     "name": "stdout",
     "output_type": "stream",
     "text": [
      "[-0.37228132+0.j  5.37228132+0.j]\n",
      "\n",
      "[[-0.82456484 -0.41597356]\n",
      " [ 0.56576746 -0.90937671]]\n"
     ]
    }
   ],
   "source": [
    "A = np.array([[1, 2],\n",
    "              [3, 4]])\n",
    "\n",
    "l, v = linalg.eig(A)\n",
    "\n",
    "# собственные значения\n",
    "print(l)\n",
    "print()\n",
    "# векторы\n",
    "print(v)"
   ]
  },
  {
   "cell_type": "markdown",
   "id": "1ee520a7",
   "metadata": {},
   "source": [
    "Обратная матрица"
   ]
  },
  {
   "cell_type": "code",
   "execution_count": 14,
   "id": "11f6bcc7",
   "metadata": {},
   "outputs": [
    {
     "name": "stdout",
     "output_type": "stream",
     "text": [
      "[[1 2]\n",
      " [4 3]]\n",
      "\n",
      "Обратная А матрица:\n",
      "[[-0.6  0.4]\n",
      " [ 0.8 -0.2]]\n"
     ]
    }
   ],
   "source": [
    "A = np.array([[1, 2],\n",
    "              [4, 3]])\n",
    "\n",
    "print(A)\n",
    "\n",
    "B = linalg.inv(A)\n",
    "print('\\nОбратная А матрица:')\n",
    "print(B)"
   ]
  }
 ],
 "metadata": {
  "kernelspec": {
   "display_name": "Python 3 (ipykernel)",
   "language": "python",
   "name": "python3"
  },
  "language_info": {
   "codemirror_mode": {
    "name": "ipython",
    "version": 3
   },
   "file_extension": ".py",
   "mimetype": "text/x-python",
   "name": "python",
   "nbconvert_exporter": "python",
   "pygments_lexer": "ipython3",
   "version": "3.10.8"
  }
 },
 "nbformat": 4,
 "nbformat_minor": 5
}
