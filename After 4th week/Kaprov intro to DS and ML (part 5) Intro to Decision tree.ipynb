{
 "cells": [
  {
   "cell_type": "code",
   "execution_count": 1,
   "id": "a3d8b66f",
   "metadata": {},
   "outputs": [],
   "source": [
    "import pandas as pd\n",
    "import matplotlib.pyplot as plt\n",
    "import seaborn as sns\n",
    "from sklearn import tree\n",
    "%matplotlib inline"
   ]
  },
  {
   "cell_type": "code",
   "execution_count": 2,
   "id": "0b4b6291",
   "metadata": {},
   "outputs": [],
   "source": [
    "sns.set(rc={'figure.figsize': (9, 6)})"
   ]
  },
  {
   "cell_type": "code",
   "execution_count": 3,
   "id": "e123a018",
   "metadata": {},
   "outputs": [
    {
     "data": {
      "text/html": [
       "<div>\n",
       "<style scoped>\n",
       "    .dataframe tbody tr th:only-of-type {\n",
       "        vertical-align: middle;\n",
       "    }\n",
       "\n",
       "    .dataframe tbody tr th {\n",
       "        vertical-align: top;\n",
       "    }\n",
       "\n",
       "    .dataframe thead th {\n",
       "        text-align: right;\n",
       "    }\n",
       "</style>\n",
       "<table border=\"1\" class=\"dataframe\">\n",
       "  <thead>\n",
       "    <tr style=\"text-align: right;\">\n",
       "      <th></th>\n",
       "      <th>X_1</th>\n",
       "      <th>X_2</th>\n",
       "      <th>Y</th>\n",
       "    </tr>\n",
       "  </thead>\n",
       "  <tbody>\n",
       "    <tr>\n",
       "      <th>0</th>\n",
       "      <td>1</td>\n",
       "      <td>0</td>\n",
       "      <td>1</td>\n",
       "    </tr>\n",
       "    <tr>\n",
       "      <th>1</th>\n",
       "      <td>1</td>\n",
       "      <td>0</td>\n",
       "      <td>1</td>\n",
       "    </tr>\n",
       "    <tr>\n",
       "      <th>2</th>\n",
       "      <td>1</td>\n",
       "      <td>0</td>\n",
       "      <td>1</td>\n",
       "    </tr>\n",
       "    <tr>\n",
       "      <th>3</th>\n",
       "      <td>0</td>\n",
       "      <td>1</td>\n",
       "      <td>1</td>\n",
       "    </tr>\n",
       "    <tr>\n",
       "      <th>4</th>\n",
       "      <td>0</td>\n",
       "      <td>0</td>\n",
       "      <td>0</td>\n",
       "    </tr>\n",
       "    <tr>\n",
       "      <th>5</th>\n",
       "      <td>0</td>\n",
       "      <td>0</td>\n",
       "      <td>0</td>\n",
       "    </tr>\n",
       "    <tr>\n",
       "      <th>6</th>\n",
       "      <td>0</td>\n",
       "      <td>0</td>\n",
       "      <td>0</td>\n",
       "    </tr>\n",
       "    <tr>\n",
       "      <th>7</th>\n",
       "      <td>1</td>\n",
       "      <td>1</td>\n",
       "      <td>0</td>\n",
       "    </tr>\n",
       "  </tbody>\n",
       "</table>\n",
       "</div>"
      ],
      "text/plain": [
       "   X_1  X_2  Y\n",
       "0    1    0  1\n",
       "1    1    0  1\n",
       "2    1    0  1\n",
       "3    0    1  1\n",
       "4    0    0  0\n",
       "5    0    0  0\n",
       "6    0    0  0\n",
       "7    1    1  0"
      ]
     },
     "execution_count": 3,
     "metadata": {},
     "output_type": "execute_result"
    }
   ],
   "source": [
    "data = pd.DataFrame({'X_1': [1, 1, 1, 0, 0, 0, 0, 1],\n",
    "                     'X_2': [0, 0, 0, 1, 0, 0, 0, 1],\n",
    "                     'Y': [1, 1, 1, 1, 0, 0, 0, 0]})\n",
    "data"
   ]
  },
  {
   "cell_type": "code",
   "execution_count": 4,
   "id": "d11e2e1b",
   "metadata": {},
   "outputs": [
    {
     "data": {
      "text/plain": [
       "sklearn.tree._classes.DecisionTreeClassifier"
      ]
     },
     "execution_count": 4,
     "metadata": {},
     "output_type": "execute_result"
    }
   ],
   "source": [
    "# создадим переменную classifier (классификатор)\n",
    "# садим дерево (создаём экземпляр класса)\n",
    "clf = tree.DecisionTreeClassifier(criterion='entropy')\n",
    "type(clf)"
   ]
  },
  {
   "cell_type": "markdown",
   "id": "34e6024d",
   "metadata": {},
   "source": [
    "# [sklearn.tree.DecisionTreeClassifier](https://scikit-learn.org/stable/modules/generated/sklearn.tree.DecisionTreeClassifier.html)"
   ]
  },
  {
   "cell_type": "code",
   "execution_count": 5,
   "id": "9a013456",
   "metadata": {},
   "outputs": [],
   "source": [
    "# сделаем предобработку данных\n",
    "X = data[['X_1', 'X_2']]\n",
    "y = data.Y"
   ]
  },
  {
   "cell_type": "code",
   "execution_count": 6,
   "id": "54c2dd2e",
   "metadata": {},
   "outputs": [
    {
     "data": {
      "text/html": [
       "<style>#sk-container-id-1 {color: black;background-color: white;}#sk-container-id-1 pre{padding: 0;}#sk-container-id-1 div.sk-toggleable {background-color: white;}#sk-container-id-1 label.sk-toggleable__label {cursor: pointer;display: block;width: 100%;margin-bottom: 0;padding: 0.3em;box-sizing: border-box;text-align: center;}#sk-container-id-1 label.sk-toggleable__label-arrow:before {content: \"▸\";float: left;margin-right: 0.25em;color: #696969;}#sk-container-id-1 label.sk-toggleable__label-arrow:hover:before {color: black;}#sk-container-id-1 div.sk-estimator:hover label.sk-toggleable__label-arrow:before {color: black;}#sk-container-id-1 div.sk-toggleable__content {max-height: 0;max-width: 0;overflow: hidden;text-align: left;background-color: #f0f8ff;}#sk-container-id-1 div.sk-toggleable__content pre {margin: 0.2em;color: black;border-radius: 0.25em;background-color: #f0f8ff;}#sk-container-id-1 input.sk-toggleable__control:checked~div.sk-toggleable__content {max-height: 200px;max-width: 100%;overflow: auto;}#sk-container-id-1 input.sk-toggleable__control:checked~label.sk-toggleable__label-arrow:before {content: \"▾\";}#sk-container-id-1 div.sk-estimator input.sk-toggleable__control:checked~label.sk-toggleable__label {background-color: #d4ebff;}#sk-container-id-1 div.sk-label input.sk-toggleable__control:checked~label.sk-toggleable__label {background-color: #d4ebff;}#sk-container-id-1 input.sk-hidden--visually {border: 0;clip: rect(1px 1px 1px 1px);clip: rect(1px, 1px, 1px, 1px);height: 1px;margin: -1px;overflow: hidden;padding: 0;position: absolute;width: 1px;}#sk-container-id-1 div.sk-estimator {font-family: monospace;background-color: #f0f8ff;border: 1px dotted black;border-radius: 0.25em;box-sizing: border-box;margin-bottom: 0.5em;}#sk-container-id-1 div.sk-estimator:hover {background-color: #d4ebff;}#sk-container-id-1 div.sk-parallel-item::after {content: \"\";width: 100%;border-bottom: 1px solid gray;flex-grow: 1;}#sk-container-id-1 div.sk-label:hover label.sk-toggleable__label {background-color: #d4ebff;}#sk-container-id-1 div.sk-serial::before {content: \"\";position: absolute;border-left: 1px solid gray;box-sizing: border-box;top: 0;bottom: 0;left: 50%;z-index: 0;}#sk-container-id-1 div.sk-serial {display: flex;flex-direction: column;align-items: center;background-color: white;padding-right: 0.2em;padding-left: 0.2em;position: relative;}#sk-container-id-1 div.sk-item {position: relative;z-index: 1;}#sk-container-id-1 div.sk-parallel {display: flex;align-items: stretch;justify-content: center;background-color: white;position: relative;}#sk-container-id-1 div.sk-item::before, #sk-container-id-1 div.sk-parallel-item::before {content: \"\";position: absolute;border-left: 1px solid gray;box-sizing: border-box;top: 0;bottom: 0;left: 50%;z-index: -1;}#sk-container-id-1 div.sk-parallel-item {display: flex;flex-direction: column;z-index: 1;position: relative;background-color: white;}#sk-container-id-1 div.sk-parallel-item:first-child::after {align-self: flex-end;width: 50%;}#sk-container-id-1 div.sk-parallel-item:last-child::after {align-self: flex-start;width: 50%;}#sk-container-id-1 div.sk-parallel-item:only-child::after {width: 0;}#sk-container-id-1 div.sk-dashed-wrapped {border: 1px dashed gray;margin: 0 0.4em 0.5em 0.4em;box-sizing: border-box;padding-bottom: 0.4em;background-color: white;}#sk-container-id-1 div.sk-label label {font-family: monospace;font-weight: bold;display: inline-block;line-height: 1.2em;}#sk-container-id-1 div.sk-label-container {text-align: center;}#sk-container-id-1 div.sk-container {/* jupyter's `normalize.less` sets `[hidden] { display: none; }` but bootstrap.min.css set `[hidden] { display: none !important; }` so we also need the `!important` here to be able to override the default hidden behavior on the sphinx rendered scikit-learn.org. See: https://github.com/scikit-learn/scikit-learn/issues/21755 */display: inline-block !important;position: relative;}#sk-container-id-1 div.sk-text-repr-fallback {display: none;}</style><div id=\"sk-container-id-1\" class=\"sk-top-container\"><div class=\"sk-text-repr-fallback\"><pre>DecisionTreeClassifier(criterion=&#x27;entropy&#x27;)</pre><b>In a Jupyter environment, please rerun this cell to show the HTML representation or trust the notebook. <br />On GitHub, the HTML representation is unable to render, please try loading this page with nbviewer.org.</b></div><div class=\"sk-container\" hidden><div class=\"sk-item\"><div class=\"sk-estimator sk-toggleable\"><input class=\"sk-toggleable__control sk-hidden--visually\" id=\"sk-estimator-id-1\" type=\"checkbox\" checked><label for=\"sk-estimator-id-1\" class=\"sk-toggleable__label sk-toggleable__label-arrow\">DecisionTreeClassifier</label><div class=\"sk-toggleable__content\"><pre>DecisionTreeClassifier(criterion=&#x27;entropy&#x27;)</pre></div></div></div></div></div>"
      ],
      "text/plain": [
       "DecisionTreeClassifier(criterion='entropy')"
      ]
     },
     "execution_count": 6,
     "metadata": {},
     "output_type": "execute_result"
    }
   ],
   "source": [
    "# обучаем дерево решений на конкретных данных\n",
    "clf.fit(X, y)"
   ]
  },
  {
   "cell_type": "markdown",
   "id": "e31d1fb9",
   "metadata": {},
   "source": [
    "# [sklearn.tree.plot_tree](https://scikit-learn.org/stable/modules/generated/sklearn.tree.plot_tree.html)"
   ]
  },
  {
   "cell_type": "code",
   "execution_count": 7,
   "id": "2a663d71",
   "metadata": {},
   "outputs": [
    {
     "data": {
      "image/png": "[encoded data removed]",
      "text/plain": [
       "<Figure size 900x600 with 1 Axes>"
      ]
     },
     "metadata": {},
     "output_type": "display_data"
    }
   ],
   "source": [
    "# Визуализируем дерево решений\n",
    "tree.plot_tree(clf, feature_names=list(X),\n",
    "              class_names=['Negative', 'Positive'], \n",
    "              filled=True, rounded=True);"
   ]
  },
  {
   "cell_type": "markdown",
   "id": "2a18a24f",
   "metadata": {},
   "source": [
    "# Классифицируем собачек и котиков"
   ]
  },
  {
   "cell_type": "markdown",
   "id": "b0ee52ba",
   "metadata": {},
   "source": [
    "## Задача 1"
   ]
  },
  {
   "cell_type": "markdown",
   "id": "4960f597",
   "metadata": {},
   "source": [
    "## Ищем энтропии\n",
    "\n",
    "В нашем Big Data [датасэте](https://stepik.org/media/attachments/course/4852/cats.csv) появились новые наблюдения! Давайте немного посчитаем энтропию, чтобы лучше понять, формализуемость разделения на группы.\n",
    "\n",
    "Формат записи - энтропия в группе, где переменная равна 0 и энтропия в группе, где переменная равна 1 (десятичный разделитель - точка, округляйте до 2-ого знака при необходимости).\n",
    "\n",
    "И формула [энтропии](https://en.wikipedia.org/wiki/Entropy_(information_theory))"
   ]
  },
  {
   "cell_type": "code",
   "execution_count": 8,
   "id": "39c8b32b",
   "metadata": {},
   "outputs": [
    {
     "data": {
      "text/html": [
       "<div>\n",
       "<style scoped>\n",
       "    .dataframe tbody tr th:only-of-type {\n",
       "        vertical-align: middle;\n",
       "    }\n",
       "\n",
       "    .dataframe tbody tr th {\n",
       "        vertical-align: top;\n",
       "    }\n",
       "\n",
       "    .dataframe thead th {\n",
       "        text-align: right;\n",
       "    }\n",
       "</style>\n",
       "<table border=\"1\" class=\"dataframe\">\n",
       "  <thead>\n",
       "    <tr style=\"text-align: right;\">\n",
       "      <th></th>\n",
       "      <th>Шерстист</th>\n",
       "      <th>Гавкает</th>\n",
       "      <th>Лазает по деревьям</th>\n",
       "      <th>Вид</th>\n",
       "    </tr>\n",
       "  </thead>\n",
       "  <tbody>\n",
       "    <tr>\n",
       "      <th>0</th>\n",
       "      <td>1</td>\n",
       "      <td>1</td>\n",
       "      <td>0</td>\n",
       "      <td>собачка</td>\n",
       "    </tr>\n",
       "    <tr>\n",
       "      <th>1</th>\n",
       "      <td>1</td>\n",
       "      <td>1</td>\n",
       "      <td>0</td>\n",
       "      <td>собачка</td>\n",
       "    </tr>\n",
       "    <tr>\n",
       "      <th>2</th>\n",
       "      <td>1</td>\n",
       "      <td>1</td>\n",
       "      <td>0</td>\n",
       "      <td>собачка</td>\n",
       "    </tr>\n",
       "    <tr>\n",
       "      <th>3</th>\n",
       "      <td>1</td>\n",
       "      <td>1</td>\n",
       "      <td>0</td>\n",
       "      <td>собачка</td>\n",
       "    </tr>\n",
       "    <tr>\n",
       "      <th>4</th>\n",
       "      <td>1</td>\n",
       "      <td>0</td>\n",
       "      <td>1</td>\n",
       "      <td>котик</td>\n",
       "    </tr>\n",
       "    <tr>\n",
       "      <th>5</th>\n",
       "      <td>1</td>\n",
       "      <td>0</td>\n",
       "      <td>1</td>\n",
       "      <td>котик</td>\n",
       "    </tr>\n",
       "    <tr>\n",
       "      <th>6</th>\n",
       "      <td>1</td>\n",
       "      <td>0</td>\n",
       "      <td>1</td>\n",
       "      <td>котик</td>\n",
       "    </tr>\n",
       "    <tr>\n",
       "      <th>7</th>\n",
       "      <td>1</td>\n",
       "      <td>0</td>\n",
       "      <td>1</td>\n",
       "      <td>котик</td>\n",
       "    </tr>\n",
       "    <tr>\n",
       "      <th>8</th>\n",
       "      <td>1</td>\n",
       "      <td>1</td>\n",
       "      <td>1</td>\n",
       "      <td>котик</td>\n",
       "    </tr>\n",
       "    <tr>\n",
       "      <th>9</th>\n",
       "      <td>0</td>\n",
       "      <td>0</td>\n",
       "      <td>1</td>\n",
       "      <td>котик</td>\n",
       "    </tr>\n",
       "  </tbody>\n",
       "</table>\n",
       "</div>"
      ],
      "text/plain": [
       "   Шерстист  Гавкает  Лазает по деревьям      Вид\n",
       "0         1        1                   0  собачка\n",
       "1         1        1                   0  собачка\n",
       "2         1        1                   0  собачка\n",
       "3         1        1                   0  собачка\n",
       "4         1        0                   1    котик\n",
       "5         1        0                   1    котик\n",
       "6         1        0                   1    котик\n",
       "7         1        0                   1    котик\n",
       "8         1        1                   1    котик\n",
       "9         0        0                   1    котик"
      ]
     },
     "execution_count": 8,
     "metadata": {},
     "output_type": "execute_result"
    }
   ],
   "source": [
    "from math import log2\n",
    "import pandas as pd\n",
    "\n",
    "pets = pd.read_csv('https://stepik.org/media/attachments/course/4852/cats.csv', index_col=0)\n",
    "pets"
   ]
  },
  {
   "cell_type": "code",
   "execution_count": 9,
   "id": "32905431",
   "metadata": {},
   "outputs": [],
   "source": [
    "# отдельные series нашего датафрейма\n",
    "woolly = pets.iloc[:, 0]\n",
    "bark = pets.iloc[:, 1]\n",
    "climbing = pets.iloc[:, 2]\n",
    "kind = pets.iloc[:, 3]"
   ]
  },
  {
   "cell_type": "code",
   "execution_count": 10,
   "id": "7bdca4ac",
   "metadata": {},
   "outputs": [],
   "source": [
    "# определяем энтропию по каждому признаку для каждого кластера\n",
    "def find_tree_entropy(series: pd.Series, clusters: pd.Series) -> tuple:\n",
    "    # split tree in two parts\n",
    "    negative = series[series == 0].tolist()\n",
    "    positive = series[series == 1].tolist()\n",
    "    \n",
    "    # get two clusters\n",
    "    first_cluster, second_cluster = kind.unique()  # first = dog, second = cat\n",
    "    \n",
    "    # create two-series data frame\n",
    "    df = pd.DataFrame({'series': series, 'cluster': clusters})\n",
    "    \n",
    "    # calculate variables\n",
    "    N_1 = len(negative)\n",
    "    N_2 = len(positive)\n",
    "    \n",
    "    n_11 = len(df[(df.series == 0) & (df.cluster == first_cluster)])  # 0 and dog\n",
    "    n_12 = len(df[(df.series == 0) & (df.cluster == second_cluster)])  # 0 and cat\n",
    "    n_21 = len(df[(df.series == 1) & (df.cluster == first_cluster)])  # 1 and dog\n",
    "    n_22 = len(df[(df.series == 1) & (df.cluster == second_cluster)])  # 1 and cat\n",
    "            \n",
    "    # calculate logarithms        \n",
    "    p_11 = log2(n_11 / N_1) if n_11 > 0 else 0\n",
    "    p_12 = log2(n_12 / N_1) if n_12 > 0 else 0\n",
    "    p_21 = log2(n_21 / N_2) if n_21 > 0 else 0\n",
    "    p_22 = log2(n_22 / N_2) if n_22 > 0 else 0\n",
    "        \n",
    "    # calculate entropies\n",
    "    entropy_negative = round(abs(-(n_11 / N_1) * p_11 -(n_12 / N_1) * p_12), 2)\n",
    "    entropy_positive = round(abs(-(n_21 / N_2) * p_21 -(n_22 / N_2) * p_22), 2)\n",
    "    return entropy_negative, entropy_positive"
   ]
  },
  {
   "cell_type": "code",
   "execution_count": 11,
   "id": "38df5ea8",
   "metadata": {},
   "outputs": [
    {
     "name": "stdout",
     "output_type": "stream",
     "text": [
      "Негативная энтропия по признаку woolly равна 0.0, а позитивная равна 0.99\n"
     ]
    }
   ],
   "source": [
    "negative_1, positive_1 = find_tree_entropy(woolly, kind)\n",
    "print(f'Негативная энтропия по признаку woolly равна {negative_1}, а позитивная равна {positive_1}')"
   ]
  },
  {
   "cell_type": "code",
   "execution_count": 12,
   "id": "e608d6b6",
   "metadata": {},
   "outputs": [
    {
     "name": "stdout",
     "output_type": "stream",
     "text": [
      "Негативная энтропия по признаку bark равна 0.0, а позитивная равна 0.72\n"
     ]
    }
   ],
   "source": [
    "negative_2, positive_2 = find_tree_entropy(bark, kind)\n",
    "print(f'Негативная энтропия по признаку bark равна {negative_2}, а позитивная равна {positive_2}')"
   ]
  },
  {
   "cell_type": "code",
   "execution_count": 13,
   "id": "d5487e7a",
   "metadata": {},
   "outputs": [
    {
     "name": "stdout",
     "output_type": "stream",
     "text": [
      "Негативная энтропия по признаку climbing равна 0.0, а позитивная равна 0.0\n"
     ]
    }
   ],
   "source": [
    "negative_3, positive_3 = find_tree_entropy(climbing, kind)\n",
    "print(f'Негативная энтропия по признаку climbing равна {negative_3}, а позитивная равна {positive_3}')"
   ]
  },
  {
   "cell_type": "markdown",
   "id": "fd1538ab",
   "metadata": {},
   "source": [
    "## Задача 2"
   ]
  },
  {
   "cell_type": "markdown",
   "id": "812af512",
   "metadata": {},
   "source": [
    "## Находим значение Information gain (IG)\n",
    "\n",
    "Ещё немного арифметики - посчитаем Information Gain по данным из предыдущего задания. Впишите через пробел округлённые до 2-ого знака значения IG для фичей Шерстист, Гавкает и Лазает по деревьям. Десятичным разделителем в данном задании является точка.\n",
    "\n",
    "По какой переменной нужно делать сплит, исходя из всего этого (не вводите ответ на этот вопрос в поле, просто подумайте)"
   ]
  },
  {
   "cell_type": "code",
   "execution_count": 14,
   "id": "7b1e76ea",
   "metadata": {},
   "outputs": [
    {
     "data": {
      "text/plain": [
       "[[0.0, 0.99], [0.0, 0.72], [0.0, 0.0]]"
      ]
     },
     "execution_count": 14,
     "metadata": {},
     "output_type": "execute_result"
    }
   ],
   "source": [
    "# запускать после задачи 1\n",
    "entropy = [\n",
    "    [negative_1, positive_1],\n",
    "    [negative_2, positive_2],\n",
    "    [negative_3, positive_3],\n",
    "]\n",
    "\n",
    "entropy"
   ]
  },
  {
   "cell_type": "code",
   "execution_count": 15,
   "id": "cdec4fbe",
   "metadata": {},
   "outputs": [
    {
     "data": {
      "text/plain": [
       "['Шерстист', 'Гавкает', 'Лазает по деревьям', 'Вид']"
      ]
     },
     "execution_count": 15,
     "metadata": {},
     "output_type": "execute_result"
    }
   ],
   "source": [
    "# дополнительные переменные для удобства\n",
    "features = [woolly, bark, climbing]\n",
    "column_names = pets.columns.tolist()\n",
    "column_names"
   ]
  },
  {
   "cell_type": "code",
   "execution_count": 16,
   "id": "a26b9a13",
   "metadata": {},
   "outputs": [],
   "source": [
    "# отдельные IG по каждому признаку\n",
    "def find_information_gain(series: pd.Series, clusters: pd.Series, entropy: list[float]) -> float:\n",
    "    # create two-series data frame\n",
    "    df = pd.DataFrame({'series': series, 'cluster': clusters})\n",
    "    \n",
    "    # get two clusters\n",
    "    first_cluster, second_cluster = kind.unique()  # first = dog, second = cat\n",
    "    \n",
    "    dogs = len(df[df.cluster == first_cluster])  # dog\n",
    "    cats = len(df[df.cluster == second_cluster])  # cat\n",
    "    \n",
    "    # main calculations\n",
    "    N = len(df.series)\n",
    "    n_1 = len(series[series == 0])\n",
    "    n_2 = len(series[series == 1])\n",
    "    E = abs(- dogs / N * log2(dogs / N) - cats / N * log2(cats / N))\n",
    "    \n",
    "    # calculate information gain\n",
    "    IG = round(E - (entropy[0] * (n_1 / N) + entropy[1] * (n_2 / N)), 2)\n",
    "\n",
    "    return IG"
   ]
  },
  {
   "cell_type": "code",
   "execution_count": 17,
   "id": "5cbaa252",
   "metadata": {},
   "outputs": [
    {
     "name": "stdout",
     "output_type": "stream",
     "text": [
      "IG по признаку Шерстист равняется 0.08\n",
      "IG по признаку Гавкает равняется 0.61\n",
      "IG по признаку Лазает по деревьям равняется 0.97\n"
     ]
    }
   ],
   "source": [
    "for i in range(3):\n",
    "    print(f'IG по признаку {column_names[i]} равняется {find_information_gain(features[i], kind, entropy[i])}')"
   ]
  }
 ],
 "metadata": {
  "kernelspec": {
   "display_name": "Python 3 (ipykernel)",
   "language": "python",
   "name": "python3"
  },
  "language_info": {
   "codemirror_mode": {
    "name": "ipython",
    "version": 3
   },
   "file_extension": ".py",
   "mimetype": "text/x-python",
   "name": "python",
   "nbconvert_exporter": "python",
   "pygments_lexer": "ipython3",
   "version": "3.10.8"
  }
 },
 "nbformat": 4,
 "nbformat_minor": 5
}
