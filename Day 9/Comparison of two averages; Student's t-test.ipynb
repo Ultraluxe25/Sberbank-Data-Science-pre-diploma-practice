{
 "cells": [
  {
   "cell_type": "markdown",
   "id": "24a4c89c",
   "metadata": {},
   "source": [
    "The first Academy Awards for Best Actor and Actress were presented in 1929. The bar graph data shows the age distribution of winners from 1929 to 2014 (100 men, 100 women). Using the t-test, check whether the observed age differences between the best actresses and actors can be considered statistically significant.\n",
    "The average age of men is 45, sd = 9.\n",
    "\n",
    "The average age of women is 34, sd = 10.\n",
    "\n",
    "Note\n",
    "\n",
    "Having calculated the t - value, you can compare it with the tabular one in order to make a statistical decision: whether to reject the null hypothesis. http://www.medcalc.org/manual/t-distribution.php\n",
    "\n",
    "Again, let's turn to the table of t - values,\n",
    "as in the previous task, we find the critical value for our experiment (at the intersection of the row with the desired number of degrees of freedom and the column, where P=0.05). If your calculated t-value is greater than the table value: reject the null hypothesis at p < 0.05.\n",
    "\n",
    "Also, the course participant Vitaliy Vavilov finalized the site,\n",
    "where you can calculate the area under the curve in a situation of different distributions and with different degrees of freedom https://vavilovva.shinyapps.io/dist_calc/."
   ]
  },
  {
   "cell_type": "code",
   "execution_count": 28,
   "id": "0f357324",
   "metadata": {},
   "outputs": [],
   "source": [
    "from math import sqrt\n",
    "import scipy.stats as st"
   ]
  },
  {
   "cell_type": "code",
   "execution_count": 29,
   "id": "1dbe95b1",
   "metadata": {},
   "outputs": [],
   "source": [
    "men_mean = 45\n",
    "men_std = 9\n",
    "\n",
    "women_mean = 34\n",
    "women_std = 10\n",
    "\n",
    "n = 100\n",
    "alpha = 0.95"
   ]
  },
  {
   "cell_type": "code",
   "execution_count": 30,
   "id": "c7bcc989",
   "metadata": {
    "scrolled": true
   },
   "outputs": [
    {
     "name": "stdout",
     "output_type": "stream",
     "text": [
      "Standard error of the mean: 1.345\n"
     ]
    }
   ],
   "source": [
    "se = sqrt(men_std ** 2 / n + women_std ** 2 / n)\n",
    "print(f'Standard error of the mean: {se:.3f}')"
   ]
  },
  {
   "cell_type": "markdown",
   "id": "766ed812",
   "metadata": {},
   "source": [
    "t - рассчитывается по формуле, p-value берется с таблицы"
   ]
  },
  {
   "cell_type": "code",
   "execution_count": 31,
   "id": "fb3fcdcc",
   "metadata": {},
   "outputs": [
    {
     "name": "stdout",
     "output_type": "stream",
     "text": [
      "t-test value is: 8.176235608718828\n"
     ]
    }
   ],
   "source": [
    "t = (men_mean - women_mean) / se\n",
    "print(f't-test value is: {t}')"
   ]
  },
  {
   "cell_type": "code",
   "execution_count": 32,
   "id": "ddaada6b",
   "metadata": {},
   "outputs": [
    {
     "name": "stdout",
     "output_type": "stream",
     "text": [
      "degrees of freedom: 198\n"
     ]
    }
   ],
   "source": [
    "df = n + n - 2\n",
    "print(f'degrees of freedom: {df}')"
   ]
  },
  {
   "cell_type": "code",
   "execution_count": 33,
   "id": "44b000ed",
   "metadata": {},
   "outputs": [
    {
     "name": "stdout",
     "output_type": "stream",
     "text": [
      "p-value: 1.9720174778338955\n"
     ]
    }
   ],
   "source": [
    "p_value = abs(st.t.ppf((1 - alpha) / 2, df))\n",
    "print(f'p-value: {p_value}')"
   ]
  },
  {
   "cell_type": "code",
   "execution_count": 34,
   "id": "0c9fdfc5",
   "metadata": {},
   "outputs": [
    {
     "name": "stdout",
     "output_type": "stream",
     "text": [
      "Rejecting the null hypothesis in favor of the alternative\n"
     ]
    }
   ],
   "source": [
    "if t >= p_value:\n",
    "    print('Rejecting the null hypothesis in favor of the alternative')\n",
    "else:\n",
    "    print('Accepts the null hypothesis')"
   ]
  }
 ],
 "metadata": {
  "kernelspec": {
   "display_name": "Python 3 (ipykernel)",
   "language": "python",
   "name": "python3"
  },
  "language_info": {
   "codemirror_mode": {
    "name": "ipython",
    "version": 3
   },
   "file_extension": ".py",
   "mimetype": "text/x-python",
   "name": "python",
   "nbconvert_exporter": "python",
   "pygments_lexer": "ipython3",
   "version": "3.10.8"
  }
 },
 "nbformat": 4,
 "nbformat_minor": 5
}
